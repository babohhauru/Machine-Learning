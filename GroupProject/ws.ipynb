{
 "cells": [
  {
   "cell_type": "code",
   "execution_count": 1,
   "id": "5f25300c",
   "metadata": {},
   "outputs": [],
   "source": [
    "import numpy as np\n",
    "import matplotlib.pyplot as plt\n",
    "import pandas as pd\n",
    "from sklearn.linear_model import LinearRegression, Ridge\n",
    "from sklearn.neural_network import MLPRegressor\n",
    "from sklearn.svm import SVR\n",
    "from sklearn.metrics import r2_score, mean_absolute_error, max_error"
   ]
  },
  {
   "cell_type": "code",
   "execution_count": 2,
   "id": "b7174efe",
   "metadata": {},
   "outputs": [],
   "source": [
    "# Feature Selectiom\n",
    "# Load the datasets\n",
    "train_val = pd.read_csv('1920.csv')\n",
    "train_val_dataset = pd.DataFrame(train_val)\n",
    "test = pd.read_csv('2021.csv')\n",
    "test_dataset = pd.DataFrame(test)\n",
    "\n",
    "# Extract X and y\n",
    "X_keys = [c for c in test_dataset.columns if (c != 'WS')]\n",
    "\n",
    "X_train_val = train_val[X_keys].values\n",
    "X_train = train_val[X_keys].values[:-77]\n",
    "X_val = train_val[X_keys].values[-77:]\n",
    "X_test = test[X_keys].values\n",
    "y_train_val = train_val['WS'].values\n",
    "y_train = train_val['WS'].values[:-77]\n",
    "y_val = train_val['WS'].values[-77:]\n",
    "y_test = test['WS'].values"
   ]
  },
  {
   "cell_type": "code",
   "execution_count": 3,
   "id": "bc340f9f",
   "metadata": {},
   "outputs": [],
   "source": [
    "# Fit models and select features using MAE\n",
    "feature_indices = list(range(X_train.shape[1]))\n",
    "max_feature = 8\n",
    "first_n = 10\n",
    "\n",
    "# The models are evaluated through coefficient of determination\n",
    "score_list = []\n",
    "current_feature_list = [[]]\n",
    "feature_list = []\n",
    "\n",
    "# Iterate when the feature number did not reach the limit\n",
    "while len(current_feature_list[0]) != 8:\n",
    "    new_feature_sets = []\n",
    "    \n",
    "    temp_scores = []\n",
    "    for current_features in current_feature_list:\n",
    "        remaining_features = [feature for feature in range(X_train.shape[1]) if feature not in current_features]\n",
    "        for new_feature in remaining_features:\n",
    "            # Append the feature to the list if the set is new\n",
    "            temp = current_features.copy()\n",
    "            temp.extend([new_feature])\n",
    "            temp.sort()\n",
    "            if temp not in new_feature_sets:\n",
    "                new_feature_sets.append(temp)\n",
    "            else:\n",
    "                continue\n",
    "            \n",
    "            # Fit the model\n",
    "            linear = LinearRegression().fit(X_train[:, temp], y_train)\n",
    "            score = linear.score(X_val[:, temp], y_val)\n",
    "            temp_scores.append(score)\n",
    "            \n",
    "    # Get the best feature sets\n",
    "    sorted_indices = np.argsort(temp_scores)[::-1][:first_n]\n",
    "    sorted_indices.sort()\n",
    "    best_featuresets = np.array(new_feature_sets)[sorted_indices].tolist()\n",
    "    \n",
    "    # Append the sets\n",
    "    score_list.extend(np.array(temp_scores)[sorted_indices].tolist())\n",
    "    feature_list.extend(best_featuresets)\n",
    "    current_feature_list = best_featuresets.copy()"
   ]
  },
  {
   "cell_type": "code",
   "execution_count": 4,
   "id": "cad5adde",
   "metadata": {},
   "outputs": [
    {
     "data": {
      "image/png": "[encoded data removed]",
      "text/plain": [
       "<Figure size 640x480 with 1 Axes>"
      ]
     },
     "metadata": {},
     "output_type": "display_data"
    },
    {
     "name": "stdout",
     "output_type": "stream",
     "text": [
      "The features chosen by our algorithm are: \n",
      "['G' 'MP' 'USG%' 'VORP']\n"
     ]
    }
   ],
   "source": [
    "# Visualize the highest scores in each set\n",
    "plt.figure()\n",
    "max_scores = []\n",
    "for i in range(max_feature):\n",
    "    scores = score_list[i*10:(i+1)*10]\n",
    "    max_scores.append(max(scores))\n",
    "    \n",
    "plt.plot(np.arange(max_feature)+1, max_scores)\n",
    "plt.xlabel(\"Number of Features\")\n",
    "plt.ylabel(\"Coefficient of Determination\")\n",
    "plt.show()\n",
    "\n",
    "# We can see a good performance can be obtained when the number of features is 4, but we shall pick the set with the highest score\n",
    "index = np.argmax(score_list)\n",
    "feature_set = feature_list[index]\n",
    "\n",
    "# Print the features\n",
    "print(\"The features chosen by our algorithm are: \")\n",
    "print(np.array(X_keys)[feature_set])"
   ]
  },
  {
   "cell_type": "code",
   "execution_count": 5,
   "id": "48fc3b8e",
   "metadata": {},
   "outputs": [
    {
     "name": "stdout",
     "output_type": "stream",
     "text": [
      "Evaluating the baseline model...\n",
      "MAE=0.505708, R**2=0.904534, Max Error=3.896947\n"
     ]
    }
   ],
   "source": [
    "# The baseline classifier could be a linear model fit on the entire dataset\n",
    "result_dict = {}\n",
    "baseline = LinearRegression().fit(X_train_val[:, feature_set], y_train_val)\n",
    "\n",
    "# Evaluate the model through: 1. MAE 2. the coefficient of determination 3. max error\n",
    "print(\"Evaluating the baseline model...\")\n",
    "y_pred = baseline.predict(X_test[:, feature_set])\n",
    "mae = mean_absolute_error(y_test, y_pred)\n",
    "r_square = r2_score(y_test, y_pred)\n",
    "maxerror = max_error(y_test, y_pred)\n",
    "\n",
    "print(\"MAE=%.6f, R**2=%.6f, Max Error=%.6f\"%(mae, r_square, maxerror))\n",
    "result_dict['Baseline'] = {'MAE':mae, 'R Square': r_square, 'Max Error': maxerror}"
   ]
  },
  {
   "cell_type": "code",
   "execution_count": 6,
   "id": "0ff70a85",
   "metadata": {},
   "outputs": [
    {
     "name": "stdout",
     "output_type": "stream",
     "text": [
      "Evaluating the SVM...\n",
      "Evaluating the ridge regressor...\n",
      "Evaluating the MLP model...\n"
     ]
    },
    {
     "data": {
      "text/html": [
       "<div>\n",
       "<style scoped>\n",
       "    .dataframe tbody tr th:only-of-type {\n",
       "        vertical-align: middle;\n",
       "    }\n",
       "\n",
       "    .dataframe tbody tr th {\n",
       "        vertical-align: top;\n",
       "    }\n",
       "\n",
       "    .dataframe thead th {\n",
       "        text-align: right;\n",
       "    }\n",
       "</style>\n",
       "<table border=\"1\" class=\"dataframe\">\n",
       "  <thead>\n",
       "    <tr style=\"text-align: right;\">\n",
       "      <th></th>\n",
       "      <th>Baseline</th>\n",
       "      <th>SVM</th>\n",
       "      <th>Ridge</th>\n",
       "      <th>MLP</th>\n",
       "    </tr>\n",
       "  </thead>\n",
       "  <tbody>\n",
       "    <tr>\n",
       "      <th>MAE</th>\n",
       "      <td>0.505708</td>\n",
       "      <td>1.068248</td>\n",
       "      <td>0.505418</td>\n",
       "      <td>0.657636</td>\n",
       "    </tr>\n",
       "    <tr>\n",
       "      <th>R Square</th>\n",
       "      <td>0.904534</td>\n",
       "      <td>0.523990</td>\n",
       "      <td>0.904631</td>\n",
       "      <td>0.843352</td>\n",
       "    </tr>\n",
       "    <tr>\n",
       "      <th>Max Error</th>\n",
       "      <td>3.896947</td>\n",
       "      <td>9.869843</td>\n",
       "      <td>3.892334</td>\n",
       "      <td>3.978000</td>\n",
       "    </tr>\n",
       "  </tbody>\n",
       "</table>\n",
       "</div>"
      ],
      "text/plain": [
       "           Baseline       SVM     Ridge       MLP\n",
       "MAE        0.505708  1.068248  0.505418  0.657636\n",
       "R Square   0.904534  0.523990  0.904631  0.843352\n",
       "Max Error  3.896947  9.869843  3.892334  3.978000"
      ]
     },
     "execution_count": 6,
     "metadata": {},
     "output_type": "execute_result"
    }
   ],
   "source": [
    "# SVM (very coarse grained for regression)\n",
    "svm_regressor = SVR().fit(X_train_val[:, feature_set], y_train_val)\n",
    "print(\"Evaluating the SVM...\")\n",
    "y_pred = svm_regressor.predict(X_test[:, feature_set])\n",
    "mae = mean_absolute_error(y_test, y_pred)\n",
    "r_square = r2_score(y_test, y_pred)\n",
    "maxerror = max_error(y_test, y_pred)\n",
    "result_dict['SVM'] = {'MAE':mae, 'R Square': r_square, 'Max Error': maxerror}\n",
    "\n",
    "# Ridge regressor (not very useful when the good features are already selected)\n",
    "ridge = Ridge().fit(X_train_val[:, feature_set], y_train_val)\n",
    "print(\"Evaluating the ridge regressor...\")\n",
    "y_pred = ridge.predict(X_test[:, feature_set])\n",
    "mae = mean_absolute_error(y_test, y_pred)\n",
    "r_square = r2_score(y_test, y_pred)\n",
    "maxerror = max_error(y_test, y_pred)\n",
    "result_dict['Ridge'] = {'MAE':mae, 'R Square': r_square, 'Max Error': maxerror}\n",
    "\n",
    "# MLPRegressor (varies a lot when changing hyper-parameters such as hidden layer sizes)\n",
    "mlp = MLPRegressor(hidden_layer_sizes=(256, 64), batch_size=32, random_state=0, learning_rate='adaptive', max_iter=1000).fit(X_train_val[:, feature_set], y_train_val)\n",
    "print(\"Evaluating the MLP model...\")\n",
    "y_pred = mlp.predict(X_test[:, feature_set])\n",
    "mae = mean_absolute_error(y_test, y_pred)\n",
    "r_square = r2_score(y_test, y_pred)\n",
    "maxerror = max_error(y_test, y_pred)\n",
    "result_dict['MLP'] = {'MAE':mae, 'R Square': r_square, 'Max Error': maxerror}\n",
    "\n",
    "# Make a table\n",
    "df = pd.DataFrame(result_dict)\n",
    "df"
   ]
  },
  {
   "cell_type": "code",
   "execution_count": null,
   "id": "fb262ff6",
   "metadata": {},
   "outputs": [],
   "source": []
  }
 ],
 "metadata": {
  "kernelspec": {
   "display_name": "Python 3 (ipykernel)",
   "language": "python",
   "name": "python3"
  },
  "language_info": {
   "codemirror_mode": {
    "name": "ipython",
    "version": 3
   },
   "file_extension": ".py",
   "mimetype": "text/x-python",
   "name": "python",
   "nbconvert_exporter": "python",
   "pygments_lexer": "ipython3",
   "version": "3.10.7"
  },
  "toc": {
   "base_numbering": 1,
   "nav_menu": {},
   "number_sections": true,
   "sideBar": true,
   "skip_h1_title": false,
   "title_cell": "Table of Contents",
   "title_sidebar": "Contents",
   "toc_cell": false,
   "toc_position": {},
   "toc_section_display": true,
   "toc_window_display": false
  }
 },
 "nbformat": 4,
 "nbformat_minor": 5
}
