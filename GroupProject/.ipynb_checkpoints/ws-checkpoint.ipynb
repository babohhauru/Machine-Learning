{
 "cells": [
  {
   "cell_type": "code",
   "execution_count": 13,
   "id": "5f25300c",
   "metadata": {},
   "outputs": [],
   "source": [
    "import numpy as np\n",
    "import matplotlib.pyplot as plt\n",
    "import pandas as pd\n",
    "from sklearn.linear_model import LinearRegression, Ridge\n",
    "from sklearn.neural_network import MLPRegressor\n",
    "from sklearn.svm import SVR\n",
    "from sklearn.metrics import r2_score, mean_absolute_error, max_error"
   ]
  },
  {
   "cell_type": "code",
   "execution_count": 23,
   "id": "b7174efe",
   "metadata": {},
   "outputs": [],
   "source": [
    "# Feature Selectiom\n",
    "# Load the datasets\n",
    "train_val = pd.read_csv('1920.csv')\n",
    "train_val_dataset = pd.DataFrame(train_val)\n",
    "test = pd.read_csv('2021.csv')\n",
    "test_dataset = pd.DataFrame(test)\n",
    "\n",
    "# Extract X and y\n",
    "X_keys = [c for c in test_dataset.columns if (c != 'WS' and 'Name' not in c and 'WS/48' not in c)]\n",
    "\n",
    "X_train_val = train_val[X_keys].values\n",
    "X_train = train_val[X_keys].values[:-77]\n",
    "X_val = train_val[X_keys].values[-77:]\n",
    "X_test = test[X_keys].values\n",
    "y_train_val = train_val['WS'].values\n",
    "y_train = train_val['WS'].values[:-77]\n",
    "y_val = train_val['WS'].values[-77:]\n",
    "y_test = test['WS'].values"
   ]
  },
  {
   "cell_type": "code",
   "execution_count": 24,
   "id": "bc340f9f",
   "metadata": {},
   "outputs": [
    {
     "ename": "ValueError",
     "evalue": "could not convert string to float: 'Maxi Kleber'",
     "output_type": "error",
     "traceback": [
      "\u001b[1;31m---------------------------------------------------------------------------\u001b[0m",
      "\u001b[1;31mValueError\u001b[0m                                Traceback (most recent call last)",
      "Cell \u001b[1;32mIn [24], line 29\u001b[0m\n\u001b[0;32m     26\u001b[0m     \u001b[38;5;28;01mcontinue\u001b[39;00m\n\u001b[0;32m     28\u001b[0m \u001b[38;5;66;03m# Fit the model\u001b[39;00m\n\u001b[1;32m---> 29\u001b[0m linear \u001b[38;5;241m=\u001b[39m LinearRegression()\u001b[38;5;241m.\u001b[39mfit(X_train[:, temp], y_train)\n\u001b[0;32m     30\u001b[0m score \u001b[38;5;241m=\u001b[39m linear\u001b[38;5;241m.\u001b[39mscore(X_val[:, temp], y_val)\n\u001b[0;32m     31\u001b[0m temp_scores\u001b[38;5;241m.\u001b[39mappend(score)\n",
      "File \u001b[1;32mF:\\python\\lib\\site-packages\\sklearn\\linear_model\\_base.py:684\u001b[0m, in \u001b[0;36mLinearRegression.fit\u001b[1;34m(self, X, y, sample_weight)\u001b[0m\n\u001b[0;32m    680\u001b[0m n_jobs_ \u001b[38;5;241m=\u001b[39m \u001b[38;5;28mself\u001b[39m\u001b[38;5;241m.\u001b[39mn_jobs\n\u001b[0;32m    682\u001b[0m accept_sparse \u001b[38;5;241m=\u001b[39m \u001b[38;5;28;01mFalse\u001b[39;00m \u001b[38;5;28;01mif\u001b[39;00m \u001b[38;5;28mself\u001b[39m\u001b[38;5;241m.\u001b[39mpositive \u001b[38;5;28;01melse\u001b[39;00m [\u001b[38;5;124m\"\u001b[39m\u001b[38;5;124mcsr\u001b[39m\u001b[38;5;124m\"\u001b[39m, \u001b[38;5;124m\"\u001b[39m\u001b[38;5;124mcsc\u001b[39m\u001b[38;5;124m\"\u001b[39m, \u001b[38;5;124m\"\u001b[39m\u001b[38;5;124mcoo\u001b[39m\u001b[38;5;124m\"\u001b[39m]\n\u001b[1;32m--> 684\u001b[0m X, y \u001b[38;5;241m=\u001b[39m \u001b[38;5;28;43mself\u001b[39;49m\u001b[38;5;241;43m.\u001b[39;49m\u001b[43m_validate_data\u001b[49m\u001b[43m(\u001b[49m\n\u001b[0;32m    685\u001b[0m \u001b[43m    \u001b[49m\u001b[43mX\u001b[49m\u001b[43m,\u001b[49m\u001b[43m \u001b[49m\u001b[43my\u001b[49m\u001b[43m,\u001b[49m\u001b[43m \u001b[49m\u001b[43maccept_sparse\u001b[49m\u001b[38;5;241;43m=\u001b[39;49m\u001b[43maccept_sparse\u001b[49m\u001b[43m,\u001b[49m\u001b[43m \u001b[49m\u001b[43my_numeric\u001b[49m\u001b[38;5;241;43m=\u001b[39;49m\u001b[38;5;28;43;01mTrue\u001b[39;49;00m\u001b[43m,\u001b[49m\u001b[43m \u001b[49m\u001b[43mmulti_output\u001b[49m\u001b[38;5;241;43m=\u001b[39;49m\u001b[38;5;28;43;01mTrue\u001b[39;49;00m\n\u001b[0;32m    686\u001b[0m \u001b[43m\u001b[49m\u001b[43m)\u001b[49m\n\u001b[0;32m    688\u001b[0m sample_weight \u001b[38;5;241m=\u001b[39m _check_sample_weight(\n\u001b[0;32m    689\u001b[0m     sample_weight, X, dtype\u001b[38;5;241m=\u001b[39mX\u001b[38;5;241m.\u001b[39mdtype, only_non_negative\u001b[38;5;241m=\u001b[39m\u001b[38;5;28;01mTrue\u001b[39;00m\n\u001b[0;32m    690\u001b[0m )\n\u001b[0;32m    692\u001b[0m X, y, X_offset, y_offset, X_scale \u001b[38;5;241m=\u001b[39m _preprocess_data(\n\u001b[0;32m    693\u001b[0m     X,\n\u001b[0;32m    694\u001b[0m     y,\n\u001b[1;32m   (...)\u001b[0m\n\u001b[0;32m    698\u001b[0m     sample_weight\u001b[38;5;241m=\u001b[39msample_weight,\n\u001b[0;32m    699\u001b[0m )\n",
      "File \u001b[1;32mF:\\python\\lib\\site-packages\\sklearn\\base.py:596\u001b[0m, in \u001b[0;36mBaseEstimator._validate_data\u001b[1;34m(self, X, y, reset, validate_separately, **check_params)\u001b[0m\n\u001b[0;32m    594\u001b[0m         y \u001b[38;5;241m=\u001b[39m check_array(y, input_name\u001b[38;5;241m=\u001b[39m\u001b[38;5;124m\"\u001b[39m\u001b[38;5;124my\u001b[39m\u001b[38;5;124m\"\u001b[39m, \u001b[38;5;241m*\u001b[39m\u001b[38;5;241m*\u001b[39mcheck_y_params)\n\u001b[0;32m    595\u001b[0m     \u001b[38;5;28;01melse\u001b[39;00m:\n\u001b[1;32m--> 596\u001b[0m         X, y \u001b[38;5;241m=\u001b[39m check_X_y(X, y, \u001b[38;5;241m*\u001b[39m\u001b[38;5;241m*\u001b[39mcheck_params)\n\u001b[0;32m    597\u001b[0m     out \u001b[38;5;241m=\u001b[39m X, y\n\u001b[0;32m    599\u001b[0m \u001b[38;5;28;01mif\u001b[39;00m \u001b[38;5;129;01mnot\u001b[39;00m no_val_X \u001b[38;5;129;01mand\u001b[39;00m check_params\u001b[38;5;241m.\u001b[39mget(\u001b[38;5;124m\"\u001b[39m\u001b[38;5;124mensure_2d\u001b[39m\u001b[38;5;124m\"\u001b[39m, \u001b[38;5;28;01mTrue\u001b[39;00m):\n",
      "File \u001b[1;32mF:\\python\\lib\\site-packages\\sklearn\\utils\\validation.py:1074\u001b[0m, in \u001b[0;36mcheck_X_y\u001b[1;34m(X, y, accept_sparse, accept_large_sparse, dtype, order, copy, force_all_finite, ensure_2d, allow_nd, multi_output, ensure_min_samples, ensure_min_features, y_numeric, estimator)\u001b[0m\n\u001b[0;32m   1069\u001b[0m         estimator_name \u001b[38;5;241m=\u001b[39m _check_estimator_name(estimator)\n\u001b[0;32m   1070\u001b[0m     \u001b[38;5;28;01mraise\u001b[39;00m \u001b[38;5;167;01mValueError\u001b[39;00m(\n\u001b[0;32m   1071\u001b[0m         \u001b[38;5;124mf\u001b[39m\u001b[38;5;124m\"\u001b[39m\u001b[38;5;132;01m{\u001b[39;00mestimator_name\u001b[38;5;132;01m}\u001b[39;00m\u001b[38;5;124m requires y to be passed, but the target y is None\u001b[39m\u001b[38;5;124m\"\u001b[39m\n\u001b[0;32m   1072\u001b[0m     )\n\u001b[1;32m-> 1074\u001b[0m X \u001b[38;5;241m=\u001b[39m \u001b[43mcheck_array\u001b[49m\u001b[43m(\u001b[49m\n\u001b[0;32m   1075\u001b[0m \u001b[43m    \u001b[49m\u001b[43mX\u001b[49m\u001b[43m,\u001b[49m\n\u001b[0;32m   1076\u001b[0m \u001b[43m    \u001b[49m\u001b[43maccept_sparse\u001b[49m\u001b[38;5;241;43m=\u001b[39;49m\u001b[43maccept_sparse\u001b[49m\u001b[43m,\u001b[49m\n\u001b[0;32m   1077\u001b[0m \u001b[43m    \u001b[49m\u001b[43maccept_large_sparse\u001b[49m\u001b[38;5;241;43m=\u001b[39;49m\u001b[43maccept_large_sparse\u001b[49m\u001b[43m,\u001b[49m\n\u001b[0;32m   1078\u001b[0m \u001b[43m    \u001b[49m\u001b[43mdtype\u001b[49m\u001b[38;5;241;43m=\u001b[39;49m\u001b[43mdtype\u001b[49m\u001b[43m,\u001b[49m\n\u001b[0;32m   1079\u001b[0m \u001b[43m    \u001b[49m\u001b[43morder\u001b[49m\u001b[38;5;241;43m=\u001b[39;49m\u001b[43morder\u001b[49m\u001b[43m,\u001b[49m\n\u001b[0;32m   1080\u001b[0m \u001b[43m    \u001b[49m\u001b[43mcopy\u001b[49m\u001b[38;5;241;43m=\u001b[39;49m\u001b[43mcopy\u001b[49m\u001b[43m,\u001b[49m\n\u001b[0;32m   1081\u001b[0m \u001b[43m    \u001b[49m\u001b[43mforce_all_finite\u001b[49m\u001b[38;5;241;43m=\u001b[39;49m\u001b[43mforce_all_finite\u001b[49m\u001b[43m,\u001b[49m\n\u001b[0;32m   1082\u001b[0m \u001b[43m    \u001b[49m\u001b[43mensure_2d\u001b[49m\u001b[38;5;241;43m=\u001b[39;49m\u001b[43mensure_2d\u001b[49m\u001b[43m,\u001b[49m\n\u001b[0;32m   1083\u001b[0m \u001b[43m    \u001b[49m\u001b[43mallow_nd\u001b[49m\u001b[38;5;241;43m=\u001b[39;49m\u001b[43mallow_nd\u001b[49m\u001b[43m,\u001b[49m\n\u001b[0;32m   1084\u001b[0m \u001b[43m    \u001b[49m\u001b[43mensure_min_samples\u001b[49m\u001b[38;5;241;43m=\u001b[39;49m\u001b[43mensure_min_samples\u001b[49m\u001b[43m,\u001b[49m\n\u001b[0;32m   1085\u001b[0m \u001b[43m    \u001b[49m\u001b[43mensure_min_features\u001b[49m\u001b[38;5;241;43m=\u001b[39;49m\u001b[43mensure_min_features\u001b[49m\u001b[43m,\u001b[49m\n\u001b[0;32m   1086\u001b[0m \u001b[43m    \u001b[49m\u001b[43mestimator\u001b[49m\u001b[38;5;241;43m=\u001b[39;49m\u001b[43mestimator\u001b[49m\u001b[43m,\u001b[49m\n\u001b[0;32m   1087\u001b[0m \u001b[43m    \u001b[49m\u001b[43minput_name\u001b[49m\u001b[38;5;241;43m=\u001b[39;49m\u001b[38;5;124;43m\"\u001b[39;49m\u001b[38;5;124;43mX\u001b[39;49m\u001b[38;5;124;43m\"\u001b[39;49m\u001b[43m,\u001b[49m\n\u001b[0;32m   1088\u001b[0m \u001b[43m\u001b[49m\u001b[43m)\u001b[49m\n\u001b[0;32m   1090\u001b[0m y \u001b[38;5;241m=\u001b[39m _check_y(y, multi_output\u001b[38;5;241m=\u001b[39mmulti_output, y_numeric\u001b[38;5;241m=\u001b[39my_numeric, estimator\u001b[38;5;241m=\u001b[39mestimator)\n\u001b[0;32m   1092\u001b[0m check_consistent_length(X, y)\n",
      "File \u001b[1;32mF:\\python\\lib\\site-packages\\sklearn\\utils\\validation.py:856\u001b[0m, in \u001b[0;36mcheck_array\u001b[1;34m(array, accept_sparse, accept_large_sparse, dtype, order, copy, force_all_finite, ensure_2d, allow_nd, ensure_min_samples, ensure_min_features, estimator, input_name)\u001b[0m\n\u001b[0;32m    854\u001b[0m         array \u001b[38;5;241m=\u001b[39m array\u001b[38;5;241m.\u001b[39mastype(dtype, casting\u001b[38;5;241m=\u001b[39m\u001b[38;5;124m\"\u001b[39m\u001b[38;5;124munsafe\u001b[39m\u001b[38;5;124m\"\u001b[39m, copy\u001b[38;5;241m=\u001b[39m\u001b[38;5;28;01mFalse\u001b[39;00m)\n\u001b[0;32m    855\u001b[0m     \u001b[38;5;28;01melse\u001b[39;00m:\n\u001b[1;32m--> 856\u001b[0m         array \u001b[38;5;241m=\u001b[39m \u001b[43mnp\u001b[49m\u001b[38;5;241;43m.\u001b[39;49m\u001b[43masarray\u001b[49m\u001b[43m(\u001b[49m\u001b[43marray\u001b[49m\u001b[43m,\u001b[49m\u001b[43m \u001b[49m\u001b[43morder\u001b[49m\u001b[38;5;241;43m=\u001b[39;49m\u001b[43morder\u001b[49m\u001b[43m,\u001b[49m\u001b[43m \u001b[49m\u001b[43mdtype\u001b[49m\u001b[38;5;241;43m=\u001b[39;49m\u001b[43mdtype\u001b[49m\u001b[43m)\u001b[49m\n\u001b[0;32m    857\u001b[0m \u001b[38;5;28;01mexcept\u001b[39;00m ComplexWarning \u001b[38;5;28;01mas\u001b[39;00m complex_warning:\n\u001b[0;32m    858\u001b[0m     \u001b[38;5;28;01mraise\u001b[39;00m \u001b[38;5;167;01mValueError\u001b[39;00m(\n\u001b[0;32m    859\u001b[0m         \u001b[38;5;124m\"\u001b[39m\u001b[38;5;124mComplex data not supported\u001b[39m\u001b[38;5;130;01m\\n\u001b[39;00m\u001b[38;5;132;01m{}\u001b[39;00m\u001b[38;5;130;01m\\n\u001b[39;00m\u001b[38;5;124m\"\u001b[39m\u001b[38;5;241m.\u001b[39mformat(array)\n\u001b[0;32m    860\u001b[0m     ) \u001b[38;5;28;01mfrom\u001b[39;00m \u001b[38;5;21;01mcomplex_warning\u001b[39;00m\n",
      "\u001b[1;31mValueError\u001b[0m: could not convert string to float: 'Maxi Kleber'"
     ]
    }
   ],
   "source": [
    "# Fit models and select features using MAE\n",
    "feature_indices = list(range(X_train.shape[1]))\n",
    "max_feature = 8\n",
    "first_n = 10\n",
    "\n",
    "# The models are evaluated through coefficient of determination\n",
    "score_list = []\n",
    "current_feature_list = [[]]\n",
    "feature_list = []\n",
    "\n",
    "# Iterate when the feature number did not reach the limit\n",
    "while len(current_feature_list[0]) != 8:\n",
    "    new_feature_sets = []\n",
    "    \n",
    "    temp_scores = []\n",
    "    for current_features in current_feature_list:\n",
    "        remaining_features = [feature for feature in range(X_train.shape[1]) if feature not in current_features]\n",
    "        for new_feature in remaining_features:\n",
    "            # Append the feature to the list if the set is new\n",
    "            temp = current_features.copy()\n",
    "            temp.extend([new_feature])\n",
    "            temp.sort()\n",
    "            if temp not in new_feature_sets:\n",
    "                new_feature_sets.append(temp)\n",
    "            else:\n",
    "                continue\n",
    "            \n",
    "            # Fit the model\n",
    "            linear = LinearRegression().fit(X_train[:, temp], y_train)\n",
    "            score = linear.score(X_val[:, temp], y_val)\n",
    "            temp_scores.append(score)\n",
    "            \n",
    "    # Get the best feature sets\n",
    "    sorted_indices = np.argsort(temp_scores)[::-1][:first_n]\n",
    "    sorted_indices.sort()\n",
    "    best_featuresets = np.array(new_feature_sets)[sorted_indices].tolist()\n",
    "    \n",
    "    # Append the sets\n",
    "    score_list.extend(np.array(temp_scores)[sorted_indices].tolist())\n",
    "    feature_list.extend(best_featuresets)\n",
    "    current_feature_list = best_featuresets.copy()"
   ]
  },
  {
   "cell_type": "code",
   "execution_count": 19,
   "id": "cad5adde",
   "metadata": {},
   "outputs": [
    {
     "data": {
      "image/png": "[encoded data removed]",
      "text/plain": [
       "<Figure size 640x480 with 1 Axes>"
      ]
     },
     "metadata": {},
     "output_type": "display_data"
    },
    {
     "name": "stdout",
     "output_type": "stream",
     "text": [
      "The features chosen by our algorithm are: \n",
      "['TS%' '3PAr' 'ORB%' 'AST%' 'USG%' 'OWS' 'DWS' 'WS/48']\n"
     ]
    }
   ],
   "source": [
    "# Visualize the highest scores in each set\n",
    "plt.figure()\n",
    "max_scores = []\n",
    "for i in range(max_feature):\n",
    "    scores = score_list[i*10:(i+1)*10]\n",
    "    max_scores.append(max(scores))\n",
    "    \n",
    "plt.plot(np.arange(max_feature)+1, max_scores)\n",
    "plt.xlabel(\"Number of Features\")\n",
    "plt.ylabel(\"Coefficient of Determination\")\n",
    "plt.show()\n",
    "\n",
    "# We can see a good performance can be obtained when the number of features is 2, but we shall pick the set with the highest score\n",
    "index = np.argmax(score_list)\n",
    "feature_set = feature_list[index]\n",
    "\n",
    "# Print the features\n",
    "print(\"The features chosen by our algorithm are: \")\n",
    "print(np.array(X_keys)[feature_set])"
   ]
  },
  {
   "cell_type": "code",
   "execution_count": 11,
   "id": "48fc3b8e",
   "metadata": {},
   "outputs": [
    {
     "name": "stdout",
     "output_type": "stream",
     "text": [
      "Evaluating the baseline model...\n",
      "MAE=0.027104, R**2=0.999594, Max Error=0.117196\n"
     ]
    }
   ],
   "source": [
    "# The baseline classifier could be a linear model fit on the entire dataset\n",
    "result_dict = {}\n",
    "baseline = LinearRegression().fit(X_train_val[:, feature_set], y_train_val)\n",
    "\n",
    "# Evaluate the model through: 1. MAE 2. the coefficient of determination 3. max error\n",
    "print(\"Evaluating the baseline model...\")\n",
    "y_pred = baseline.predict(X_test[:, feature_set])\n",
    "mae = mean_absolute_error(y_test, y_pred)\n",
    "r_square = r2_score(y_test, y_pred)\n",
    "maxerror = max_error(y_test, y_pred)\n",
    "\n",
    "print(\"MAE=%.6f, R**2=%.6f, Max Error=%.6f\"%(mae, r_square, maxerror))\n",
    "result_dict['Baseline'] = {'MAE':mae, 'R Square': r_square, 'Max Error': maxerror}"
   ]
  },
  {
   "cell_type": "code",
   "execution_count": 12,
   "id": "0ff70a85",
   "metadata": {},
   "outputs": [
    {
     "name": "stdout",
     "output_type": "stream",
     "text": [
      "Evaluating the SVM...\n",
      "Evaluating the ridge regressor...\n",
      "Evaluating the MLP model...\n"
     ]
    },
    {
     "data": {
      "text/html": [
       "<div>\n",
       "<style scoped>\n",
       "    .dataframe tbody tr th:only-of-type {\n",
       "        vertical-align: middle;\n",
       "    }\n",
       "\n",
       "    .dataframe tbody tr th {\n",
       "        vertical-align: top;\n",
       "    }\n",
       "\n",
       "    .dataframe thead th {\n",
       "        text-align: right;\n",
       "    }\n",
       "</style>\n",
       "<table border=\"1\" class=\"dataframe\">\n",
       "  <thead>\n",
       "    <tr style=\"text-align: right;\">\n",
       "      <th></th>\n",
       "      <th>Baseline</th>\n",
       "      <th>SVM</th>\n",
       "      <th>Ridge</th>\n",
       "      <th>MLP</th>\n",
       "    </tr>\n",
       "  </thead>\n",
       "  <tbody>\n",
       "    <tr>\n",
       "      <th>MAE</th>\n",
       "      <td>0.027104</td>\n",
       "      <td>0.439925</td>\n",
       "      <td>0.027824</td>\n",
       "      <td>0.064947</td>\n",
       "    </tr>\n",
       "    <tr>\n",
       "      <th>R Square</th>\n",
       "      <td>0.999594</td>\n",
       "      <td>0.901115</td>\n",
       "      <td>0.999595</td>\n",
       "      <td>0.998699</td>\n",
       "    </tr>\n",
       "    <tr>\n",
       "      <th>Max Error</th>\n",
       "      <td>0.117196</td>\n",
       "      <td>7.416441</td>\n",
       "      <td>0.120987</td>\n",
       "      <td>0.317937</td>\n",
       "    </tr>\n",
       "  </tbody>\n",
       "</table>\n",
       "</div>"
      ],
      "text/plain": [
       "           Baseline       SVM     Ridge       MLP\n",
       "MAE        0.027104  0.439925  0.027824  0.064947\n",
       "R Square   0.999594  0.901115  0.999595  0.998699\n",
       "Max Error  0.117196  7.416441  0.120987  0.317937"
      ]
     },
     "execution_count": 12,
     "metadata": {},
     "output_type": "execute_result"
    }
   ],
   "source": [
    "# SVM (very coarse grained for regression)\n",
    "svm_regressor = SVR().fit(X_train_val[:, feature_set], y_train_val)\n",
    "print(\"Evaluating the SVM...\")\n",
    "y_pred = svm_regressor.predict(X_test[:, feature_set])\n",
    "mae = mean_absolute_error(y_test, y_pred)\n",
    "r_square = r2_score(y_test, y_pred)\n",
    "maxerror = max_error(y_test, y_pred)\n",
    "result_dict['SVM'] = {'MAE':mae, 'R Square': r_square, 'Max Error': maxerror}\n",
    "\n",
    "# Ridge regressor (not very useful when the good features are already selected)\n",
    "ridge = Ridge().fit(X_train_val[:, feature_set], y_train_val)\n",
    "print(\"Evaluating the ridge regressor...\")\n",
    "y_pred = ridge.predict(X_test[:, feature_set])\n",
    "mae = mean_absolute_error(y_test, y_pred)\n",
    "r_square = r2_score(y_test, y_pred)\n",
    "maxerror = max_error(y_test, y_pred)\n",
    "result_dict['Ridge'] = {'MAE':mae, 'R Square': r_square, 'Max Error': maxerror}\n",
    "\n",
    "# MLPRegressor (varies a lot when changing hyper-parameters such as hidden layer sizes)\n",
    "mlp = MLPRegressor(hidden_layer_sizes=(256, 64), batch_size=32, random_state=0, learning_rate='adaptive', max_iter=1000).fit(X_train_val[:, feature_set], y_train_val)\n",
    "print(\"Evaluating the MLP model...\")\n",
    "y_pred = mlp.predict(X_test[:, feature_set])\n",
    "mae = mean_absolute_error(y_test, y_pred)\n",
    "r_square = r2_score(y_test, y_pred)\n",
    "maxerror = max_error(y_test, y_pred)\n",
    "result_dict['MLP'] = {'MAE':mae, 'R Square': r_square, 'Max Error': maxerror}\n",
    "\n",
    "# Make a table\n",
    "df = pd.DataFrame(result_dict)\n",
    "df"
   ]
  },
  {
   "cell_type": "code",
   "execution_count": null,
   "id": "fb262ff6",
   "metadata": {},
   "outputs": [],
   "source": []
  }
 ],
 "metadata": {
  "kernelspec": {
   "display_name": "Python 3 (ipykernel)",
   "language": "python",
   "name": "python3"
  },
  "language_info": {
   "codemirror_mode": {
    "name": "ipython",
    "version": 3
   },
   "file_extension": ".py",
   "mimetype": "text/x-python",
   "name": "python",
   "nbconvert_exporter": "python",
   "pygments_lexer": "ipython3",
   "version": "3.10.7"
  },
  "toc": {
   "base_numbering": 1,
   "nav_menu": {},
   "number_sections": true,
   "sideBar": true,
   "skip_h1_title": false,
   "title_cell": "Table of Contents",
   "title_sidebar": "Contents",
   "toc_cell": false,
   "toc_position": {},
   "toc_section_display": true,
   "toc_window_display": false
  }
 },
 "nbformat": 4,
 "nbformat_minor": 5
}
